{
  "nbformat": 4,
  "nbformat_minor": 0,
  "metadata": {
    "colab": {
      "provenance": []
    },
    "kernelspec": {
      "name": "python3",
      "display_name": "Python 3"
    },
    "language_info": {
      "name": "python"
    }
  },
  "cells": [
    {
      "cell_type": "markdown",
      "source": [
        "# **Урок 11.** Библиотека Numpy"
      ],
      "metadata": {
        "id": "3w7km8XYfOlq"
      }
    },
    {
      "cell_type": "markdown",
      "source": [
        "`NumPy` — это библиотека языка Python, добавляющая поддержку больших многомерных массивов и матриц, вместе с большой библиотекой высокоуровневых (и очень быстрых) математических функций для операций с этими массивами.\n",
        "\n",
        "Фактически, `Numpy` - это основная математическая библиотека для работы с данными (если вы решаете задачи машинного обучения или анализа данных). Именно Numpy, а не встроенный Math.\n",
        "\n",
        "`Numpy` лежит в основе других важных библиотек: `Pandas` (работа с табличными данными), `SciPy` (работы с методами оптимизации и научными расчётами), `Matplotlib` (построение графиков) и т.д.\n",
        "\n",
        "Именно поэтому важно уметь работать с `Numpy`, чтобы быстро применять векторные операции, а не проходить по всему массиву в цикле `for`."
      ],
      "metadata": {
        "id": "SI7KlDzHrMti"
      }
    },
    {
      "cell_type": "markdown",
      "source": [
        "Чтобы начать работать с `numpy`, как и с любым другим модулем или пакетом, его необходимо импортировать:"
      ],
      "metadata": {
        "id": "0nczNho2r7o9"
      }
    },
    {
      "cell_type": "code",
      "source": [
        "import numpy"
      ],
      "metadata": {
        "id": "3YMLYdqJr-wk"
      },
      "execution_count": null,
      "outputs": []
    },
    {
      "cell_type": "markdown",
      "source": [
        "Помните, что для `Numpy` очень распространено использование **\"алиаса\"** np, т.е. сокращённой записи под которой импортируется данный пакет:"
      ],
      "metadata": {
        "id": "r0HlzFOwr-C4"
      }
    },
    {
      "cell_type": "code",
      "source": [
        "import numpy as np"
      ],
      "metadata": {
        "id": "QhE1pmIRsFQx"
      },
      "execution_count": 2,
      "outputs": []
    },
    {
      "cell_type": "markdown",
      "source": [
        "# Numpy векторы\n",
        "\n",
        "Вектор (или массив) в `numpy` - это упорядоченный набор однородных данных.\n",
        "\n",
        "1. \"Упорядоченный\" значит, что каждый элемент вектора имеет определённое место. К нему можно обратиться по его индексу (прямо как к элементу списка). И порядок следования элементов задаётся при создании вектора (как и списка) вами (а не хешами, например, как для множества).\n",
        "\n",
        "2. \"Однородный\" значит, что все элементы вектора имеют один и тот же тип. Логический (bool), целочисленный (int), строковый (str) или какой-то иной, но все один."
      ],
      "metadata": {
        "id": "niLyHTD7t8ZJ"
      }
    },
    {
      "cell_type": "markdown",
      "source": [
        "# Создание массивов\n",
        "\n",
        "* `array(object)` — n-мерный массив из любой (возможно, вложенной) последовательности,\n",
        "* `eye(N, M=N, k=0)` -- двумерный массив с N строками с единицами на диагонали и нулями во всех остальных позициях. Число столбцов M по умолчанию равно N, k — сдвиг диагонали (0 для основной диагонали, положительные числа для верхних диагоналей и отрицательные для нижних),\n",
        "* `zeros(shape)` -- новый массив указанной формы, заполненный нулями,\n",
        "* `ones(shape)` -- новый массив указанной формы, заполненный единицами,\n",
        "* `full(shape, fill_value)` -- новый массив указанной формы, заполненный fill_value"
      ],
      "metadata": {
        "id": "gi4_FstSum7S"
      }
    },
    {
      "cell_type": "markdown",
      "source": [
        "Один из наиболее простых - создать массив из обычных списков или кортежей Python, используя функцию `numpy.array()` (запомните: array - функция, создающая объект типа ndarray):"
      ],
      "metadata": {
        "id": "1Fvyhws4vwWz"
      }
    },
    {
      "cell_type": "code",
      "source": [
        "a = np.array([1, 2, 3, 4, 5])\n",
        "print(a)"
      ],
      "metadata": {
        "id": "yMVAnE5dvM6i"
      },
      "execution_count": null,
      "outputs": []
    },
    {
      "cell_type": "markdown",
      "source": [
        "Ко всем элементам можно получить доступ и манипулировать ими так же, как вы бы это делали с обычными списками:"
      ],
      "metadata": {
        "id": "9EM9KzLmHfDO"
      }
    },
    {
      "cell_type": "code",
      "source": [
        "a[:2]"
      ],
      "metadata": {
        "id": "d4mILllcHiyI"
      },
      "execution_count": null,
      "outputs": []
    },
    {
      "cell_type": "code",
      "source": [
        "a[3]"
      ],
      "metadata": {
        "id": "UCawrtXQHnQT"
      },
      "execution_count": null,
      "outputs": []
    },
    {
      "cell_type": "code",
      "source": [
        "a[0] = 8"
      ],
      "metadata": {
        "id": "5fegM7bVHoxb"
      },
      "execution_count": null,
      "outputs": []
    },
    {
      "cell_type": "markdown",
      "source": [
        "Массивы могут быть и многомерными. В отличии от списков можно использовать запятые в скобках. Вот пример двумерного массива (матрица):\n"
      ],
      "metadata": {
        "id": "A2HAo4aBICdl"
      }
    },
    {
      "cell_type": "code",
      "source": [
        "a = np.array([[1, 2, 3], [4, 5, 6]], float)\n",
        "print(a)"
      ],
      "metadata": {
        "id": "qdrxT2YcIHnC"
      },
      "execution_count": null,
      "outputs": []
    },
    {
      "cell_type": "code",
      "source": [
        "a[0,0]"
      ],
      "metadata": {
        "id": "JKIa3HSSIKQq"
      },
      "execution_count": null,
      "outputs": []
    },
    {
      "cell_type": "code",
      "source": [
        "a[0,1]"
      ],
      "metadata": {
        "id": "SBE-wmOGIOXv"
      },
      "execution_count": null,
      "outputs": []
    },
    {
      "cell_type": "markdown",
      "source": [
        "Метод `shape` возвращает количество строк и столбцов в матрице:"
      ],
      "metadata": {
        "id": "Css1Gz_6Iacd"
      }
    },
    {
      "cell_type": "code",
      "source": [
        "a.shape"
      ],
      "metadata": {
        "id": "Y8Cv7KQwIbkh"
      },
      "execution_count": null,
      "outputs": []
    },
    {
      "cell_type": "markdown",
      "source": [
        "Метод `dtype` возвращает тип переменных, хранящихся в массиве:"
      ],
      "metadata": {
        "id": "ndGr89l1IfdD"
      }
    },
    {
      "cell_type": "code",
      "source": [
        "a.dtype"
      ],
      "metadata": {
        "id": "NYTq_qOnIha0"
      },
      "execution_count": null,
      "outputs": []
    },
    {
      "cell_type": "markdown",
      "source": [
        "Метод `len` возвращает длину первого измерения (оси):"
      ],
      "metadata": {
        "id": "GNFUx8LlIpnL"
      }
    },
    {
      "cell_type": "code",
      "source": [
        "a = np.array([[1, 2, 3], [4, 5, 6]], float)"
      ],
      "metadata": {
        "id": "xXSLg8qdIrrF"
      },
      "execution_count": null,
      "outputs": []
    },
    {
      "cell_type": "code",
      "source": [
        "len(a)"
      ],
      "metadata": {
        "id": "pMNZCCOuIuFb"
      },
      "execution_count": null,
      "outputs": []
    },
    {
      "cell_type": "markdown",
      "source": [
        "Метод `in` используется для проверки на наличие элемента в массиве:\n"
      ],
      "metadata": {
        "id": "8S6DHMkOIwy0"
      }
    },
    {
      "cell_type": "code",
      "source": [
        "a = np.array([[1, 2, 3], [4, 5, 6]], float)"
      ],
      "metadata": {
        "id": "USxHWX4MIyrQ"
      },
      "execution_count": null,
      "outputs": []
    },
    {
      "cell_type": "code",
      "source": [
        "2 in a"
      ],
      "metadata": {
        "id": "BnjV7eXOI0cc"
      },
      "execution_count": null,
      "outputs": []
    },
    {
      "cell_type": "markdown",
      "source": [
        "Функция `array()` не единственная функция для создания массивов. Обычно элементы массива вначале неизвестны, а массив, в котором они будут храниться, уже нужен. Поэтому имеется несколько функций для того, чтобы создавать массивы с каким-то исходным содержимым (по умолчанию тип создаваемого массива — float64).\n",
        "\n",
        "Функция `zeros()` создает массив из нулей, а функция `ones()` — массив из единиц. Обе функции принимают кортеж с размерами, и аргумент dtype:"
      ],
      "metadata": {
        "id": "Ultyflg0wamj"
      }
    },
    {
      "cell_type": "code",
      "source": [
        "np.zeros(10)"
      ],
      "metadata": {
        "id": "jhO5azWIwjmL"
      },
      "execution_count": null,
      "outputs": []
    },
    {
      "cell_type": "code",
      "source": [
        "np.ones(10)"
      ],
      "metadata": {
        "id": "ci04_Ysnwlsv"
      },
      "execution_count": null,
      "outputs": []
    },
    {
      "cell_type": "code",
      "source": [
        "np.full(10, 2.5)"
      ],
      "metadata": {
        "id": "Ft1608lIxYqq"
      },
      "execution_count": null,
      "outputs": []
    },
    {
      "cell_type": "markdown",
      "source": [
        "Функция eye() создаёт единичную матрицу (двумерный массив)"
      ],
      "metadata": {
        "id": "KK1_FXe8wt7w"
      }
    },
    {
      "cell_type": "code",
      "source": [
        "np.eye(5)"
      ],
      "metadata": {
        "id": "eTn1w8xuwwn5"
      },
      "execution_count": null,
      "outputs": []
    },
    {
      "cell_type": "markdown",
      "source": [
        "Функция empty() создает массив без его заполнения. Исходное содержимое случайно и зависит от состояния памяти на момент создания массива (то есть от того мусора, что в ней хранится):\n"
      ],
      "metadata": {
        "id": "_F6ZchsEw3Dm"
      }
    },
    {
      "cell_type": "code",
      "source": [
        "np.empty(10)"
      ],
      "metadata": {
        "id": "fqlojaLWw2KM"
      },
      "execution_count": null,
      "outputs": []
    },
    {
      "cell_type": "code",
      "source": [
        "np.empty((3, 3))"
      ],
      "metadata": {
        "id": "5IOK2e4YxNoq"
      },
      "execution_count": null,
      "outputs": []
    },
    {
      "cell_type": "markdown",
      "source": [
        "Для создания последовательностей чисел, в NumPy имеется функция arange(), аналогичная встроенной в Python range(), только вместо списков она возвращает массивы, и принимает не только целые значения:"
      ],
      "metadata": {
        "id": "k_UKI6CYxd4h"
      }
    },
    {
      "cell_type": "code",
      "source": [
        "np.arange(10)"
      ],
      "metadata": {
        "id": "iEsK0TqbxiT-"
      },
      "execution_count": null,
      "outputs": []
    },
    {
      "cell_type": "code",
      "source": [
        "np.arange(0, 1, 0.1)"
      ],
      "metadata": {
        "id": "Htw-KM23_1OJ"
      },
      "execution_count": null,
      "outputs": []
    },
    {
      "cell_type": "markdown",
      "source": [
        "Вообще, при использовании arange() с аргументами типа float, сложно быть уверенным в том, сколько элементов будет получено (из-за ограничения точности чисел с плавающей запятой). Поэтому, в таких случаях обычно лучше использовать функцию linspace(), которая вместо шага в качестве одного из аргументов принимает число, равное количеству нужных элементов:"
      ],
      "metadata": {
        "id": "3uxMJHO-_nsT"
      }
    },
    {
      "cell_type": "code",
      "source": [
        "np.linspace(0, 2, 9)  # 9 чисел от 0 до 2 включительно"
      ],
      "metadata": {
        "id": "Cg259dt5_xSw"
      },
      "execution_count": null,
      "outputs": []
    },
    {
      "cell_type": "markdown",
      "source": [
        "Самый простой способ задать массив со случайными элементами - использовать функцию `sample` (или `random`, или `random_sample`, или ranf - это всё одна и та же функция)."
      ],
      "metadata": {
        "id": "aADlDSO2LTcR"
      }
    },
    {
      "cell_type": "code",
      "source": [
        "np.random.sample()"
      ],
      "metadata": {
        "id": "Tcz_l1vqLWcx"
      },
      "execution_count": null,
      "outputs": []
    },
    {
      "cell_type": "code",
      "source": [
        "np.random.sample(3)"
      ],
      "metadata": {
        "id": "H3GkzazwLa4m"
      },
      "execution_count": null,
      "outputs": []
    },
    {
      "cell_type": "code",
      "source": [
        "np.random.sample((2, 3))"
      ],
      "metadata": {
        "id": "fE_Sxh9BLciU"
      },
      "execution_count": null,
      "outputs": []
    },
    {
      "cell_type": "markdown",
      "source": [
        "Без аргументов возвращает просто число в промежутке [0, 1), с одним целым числом - одномерный массив, с кортежем - массив с размерами, указанными в кортеже (все числа - из промежутка [0, 1)).\n",
        "\n",
        "С помощью функции `randint` или `random_integers` можно создать массив из целых чисел. Аргументы: `low, high, size`: от какого, до какого числа (randint не включает в себя это число, а random_integers включает), и size - размеры массива."
      ],
      "metadata": {
        "id": "COewgRwMLlNw"
      }
    },
    {
      "cell_type": "code",
      "source": [
        "np.random.randint(0, 3, 10)"
      ],
      "metadata": {
        "id": "VQ6DWuH3LrvC"
      },
      "execution_count": null,
      "outputs": []
    },
    {
      "cell_type": "code",
      "source": [
        "np.random.randint(0, 3, (2, 10))"
      ],
      "metadata": {
        "id": "KRdb6W15L1gt"
      },
      "execution_count": null,
      "outputs": []
    },
    {
      "cell_type": "markdown",
      "source": [
        "# Выбор и перемешивание\n",
        "\n",
        "Перемешать NumPy массив можно с помощью функции `shuffle`:"
      ],
      "metadata": {
        "id": "Ozf4YC3gL8AH"
      }
    },
    {
      "cell_type": "code",
      "source": [
        "a = np.arange(10)"
      ],
      "metadata": {
        "id": "YPQPX65vMBRa"
      },
      "execution_count": null,
      "outputs": []
    },
    {
      "cell_type": "code",
      "source": [
        "np.random.shuffle(a)"
      ],
      "metadata": {
        "id": "Anv4Mh3lMDPf"
      },
      "execution_count": null,
      "outputs": []
    },
    {
      "cell_type": "markdown",
      "source": [
        "# Инициализация генератора случайных чисел"
      ],
      "metadata": {
        "id": "Cl4EW9dBMN0L"
      }
    },
    {
      "cell_type": "markdown",
      "source": [
        "Функция `random.seed()` в Python используется для инициализации случайных чисел. По умолчанию генератор случайных чисел использует текущее системное время. Если вы дважды используете одно и то же начальное значение, вы получите один и тот же результат, что означает случайное число дважды."
      ],
      "metadata": {
        "id": "XOuVX7T4MQAL"
      }
    },
    {
      "cell_type": "code",
      "source": [
        "np.random.seed(1000)\n",
        "np.random.random(10)"
      ],
      "metadata": {
        "id": "wZICDKhXMTf3"
      },
      "execution_count": null,
      "outputs": []
    },
    {
      "cell_type": "code",
      "source": [
        "np.random.random(10)"
      ],
      "metadata": {
        "id": "dQQmMF9qNNbQ"
      },
      "execution_count": null,
      "outputs": []
    },
    {
      "cell_type": "code",
      "source": [
        "np.random.seed(1000)\n",
        "np.random.random(10)"
      ],
      "metadata": {
        "id": "5N7sE4fwNFz_"
      },
      "execution_count": null,
      "outputs": []
    },
    {
      "cell_type": "code",
      "source": [
        "np.random.seed(2)\n",
        "np.random.randint(low=0, high=100, size=(5, 2))"
      ],
      "metadata": {
        "id": "fNcZXsyoNd9R"
      },
      "execution_count": null,
      "outputs": []
    },
    {
      "cell_type": "markdown",
      "source": [
        "# Векторные операции\n",
        "\n",
        "Numpy поддерживает векторные операции.\n",
        "\n",
        "Это означает, что вы можете за 1 операцию умножить или поделить все координаты своего вектора на одно и то же число, например (что разумнее, чем умножение списка на число для его \"увеличения\"):"
      ],
      "metadata": {
        "id": "Zomjtd7_CQzi"
      }
    },
    {
      "cell_type": "code",
      "source": [
        "np.array([1, 2, 3]) * 5"
      ],
      "metadata": {
        "id": "0lvMMfGQCcCa"
      },
      "execution_count": null,
      "outputs": []
    },
    {
      "cell_type": "code",
      "source": [
        "np.array([1, 2, 3]) / 10"
      ],
      "metadata": {
        "id": "zO5EWcYYDfQI"
      },
      "execution_count": null,
      "outputs": []
    },
    {
      "cell_type": "code",
      "source": [
        "np.array([1, 2, 3]) - 1"
      ],
      "metadata": {
        "id": "Ozch3kr6DiNk"
      },
      "execution_count": null,
      "outputs": []
    },
    {
      "cell_type": "code",
      "source": [
        "np.array([1, 2, 3]) + 7.5"
      ],
      "metadata": {
        "id": "hfKU7NZoDlsE"
      },
      "execution_count": null,
      "outputs": []
    },
    {
      "cell_type": "markdown",
      "source": [
        "Так же вам доступны другие векторные операции, например, покоординатное вычитание и сложение векторов (т.е. когда операция производится для каждой соответствующей координаты):"
      ],
      "metadata": {
        "id": "0iQqN7wTDtNI"
      }
    },
    {
      "cell_type": "code",
      "source": [
        "a = np.array([1, 2, 3])\n",
        "b = np.array([5, 2, 6])"
      ],
      "metadata": {
        "id": "67-scMQ-Dt2s"
      },
      "execution_count": 12,
      "outputs": []
    },
    {
      "cell_type": "code",
      "source": [
        "a + b"
      ],
      "metadata": {
        "id": "tUsb9ceHJv_y"
      },
      "execution_count": null,
      "outputs": []
    },
    {
      "cell_type": "code",
      "source": [
        "a - b"
      ],
      "metadata": {
        "id": "SzjWWgjMJxbC"
      },
      "execution_count": null,
      "outputs": []
    },
    {
      "cell_type": "code",
      "source": [
        "a * b"
      ],
      "metadata": {
        "id": "aytmpyLEJy1J"
      },
      "execution_count": null,
      "outputs": []
    },
    {
      "cell_type": "code",
      "source": [
        "b / a"
      ],
      "metadata": {
        "id": "Gk2Z7xu3AVuV"
      },
      "execution_count": null,
      "outputs": []
    },
    {
      "cell_type": "code",
      "source": [
        "a % b"
      ],
      "metadata": {
        "id": "b4nMXgSKKBia"
      },
      "execution_count": null,
      "outputs": []
    },
    {
      "cell_type": "code",
      "source": [
        "b**a"
      ],
      "metadata": {
        "id": "yFRA1tEwKFJB"
      },
      "execution_count": null,
      "outputs": []
    },
    {
      "cell_type": "markdown",
      "source": [
        "При несоответствии в размере выбрасываются ошибки:"
      ],
      "metadata": {
        "id": "qkszn2OVKMQ1"
      }
    },
    {
      "cell_type": "code",
      "source": [
        "a = np.array([1, 2, 3])\n",
        "b = np.array([5, 2])"
      ],
      "metadata": {
        "id": "Sf0FPu1wKMnZ"
      },
      "execution_count": 14,
      "outputs": []
    },
    {
      "cell_type": "code",
      "source": [
        "a + b"
      ],
      "metadata": {
        "id": "N1Q4ftZ6KSMj"
      },
      "execution_count": null,
      "outputs": []
    },
    {
      "cell_type": "markdown",
      "source": [
        "Вдобавок к стандартным операторам, в numpy включена библиотека стандартных математических функций, которые могут быть применены поэлементно к массивам. Собственно функции: `abs, sign, sqrt, log, log10, exp, sin, cos, tan, arcsin, arccos, arctan, sinh, cosh, tanh, arcsinh, arccosh, и arctanh`."
      ],
      "metadata": {
        "id": "qd8WN90vKidu"
      }
    },
    {
      "cell_type": "code",
      "source": [
        "a = np.array([1, 4, 9])"
      ],
      "metadata": {
        "id": "BfUoekPnKmRS"
      },
      "execution_count": 16,
      "outputs": []
    },
    {
      "cell_type": "code",
      "source": [
        "np.sqrt(a)"
      ],
      "metadata": {
        "id": "3UjH-YsAKpQU"
      },
      "execution_count": null,
      "outputs": []
    },
    {
      "cell_type": "markdown",
      "source": [
        "Функции `floor`, `ceil` и `rint` возвращают нижние, верхние или ближайшие (округлённое) значение"
      ],
      "metadata": {
        "id": "_T_kRfw3KvJ1"
      }
    },
    {
      "cell_type": "code",
      "source": [
        "a = np.array([1.1, 1.5, 1.9])"
      ],
      "metadata": {
        "id": "c8-9uLe3Kyzq"
      },
      "execution_count": 18,
      "outputs": []
    },
    {
      "cell_type": "code",
      "source": [
        "np.floor(a)"
      ],
      "metadata": {
        "id": "-AxI9XjTK1A-"
      },
      "execution_count": null,
      "outputs": []
    },
    {
      "cell_type": "code",
      "source": [
        "np.ceil(a)"
      ],
      "metadata": {
        "id": "y_QM89rAKQdG"
      },
      "execution_count": null,
      "outputs": []
    },
    {
      "cell_type": "code",
      "source": [
        "np.rint(a)"
      ],
      "metadata": {
        "id": "ro9s4puFNl_G"
      },
      "execution_count": null,
      "outputs": []
    },
    {
      "cell_type": "markdown",
      "source": [
        "# Перебор элементов массива\n",
        "\n",
        "Проводить итерацию массивов можно аналогично спискам:"
      ],
      "metadata": {
        "id": "sNzeaK_dNovl"
      }
    },
    {
      "cell_type": "code",
      "source": [
        "a = np.array([1, 4, 5])"
      ],
      "metadata": {
        "id": "_3NUWRwrNsKa"
      },
      "execution_count": null,
      "outputs": []
    },
    {
      "cell_type": "code",
      "source": [
        "for x in a:\n",
        "    print(x)"
      ],
      "metadata": {
        "id": "odNrctntNvTX"
      },
      "execution_count": null,
      "outputs": []
    },
    {
      "cell_type": "markdown",
      "source": [
        "Для многомерных массивов итерация будет проводиться по первой оси, так, что каждый проход цикла будет возвращать «строку» массива:"
      ],
      "metadata": {
        "id": "5A1rtMP9OAm6"
      }
    },
    {
      "cell_type": "code",
      "source": [
        "a = np.array([[1, 2], [3, 4], [5, 6]])"
      ],
      "metadata": {
        "id": "JXRpnSwROC0O"
      },
      "execution_count": null,
      "outputs": []
    },
    {
      "cell_type": "code",
      "source": [
        "for x in a:\n",
        "    print(x)"
      ],
      "metadata": {
        "id": "dlDd73hqNzKE"
      },
      "execution_count": null,
      "outputs": []
    },
    {
      "cell_type": "markdown",
      "source": [
        "Множественное присваивание также доступно при итерации:"
      ],
      "metadata": {
        "id": "YPo-NZtJOLAU"
      }
    },
    {
      "cell_type": "code",
      "source": [
        "for (x, y) in a:\n",
        "    print(x * y)"
      ],
      "metadata": {
        "id": "wRIiipTrOM1F"
      },
      "execution_count": null,
      "outputs": []
    },
    {
      "cell_type": "markdown",
      "source": [
        "# Базовые операции над массивами"
      ],
      "metadata": {
        "id": "WvGjTAdCOVc1"
      }
    },
    {
      "cell_type": "markdown",
      "source": [
        "Для получения каких-либо свойств массивов существует много функций. Элементы могут быть суммированы или перемножены:"
      ],
      "metadata": {
        "id": "NQ1Bus18OYC6"
      }
    },
    {
      "cell_type": "code",
      "source": [
        "a = np.array([2, 4, 3], float)"
      ],
      "metadata": {
        "id": "PFz3D-80OabH"
      },
      "execution_count": null,
      "outputs": []
    },
    {
      "cell_type": "code",
      "source": [
        "a.sum()"
      ],
      "metadata": {
        "id": "HOzgkCapPLjG"
      },
      "execution_count": null,
      "outputs": []
    },
    {
      "cell_type": "code",
      "source": [
        "a.prod()"
      ],
      "metadata": {
        "id": "XaiAeq37POlh"
      },
      "execution_count": null,
      "outputs": []
    },
    {
      "cell_type": "markdown",
      "source": [
        "В этом примере были использованы функции массива. Также можно использовать собственные функции numpy:"
      ],
      "metadata": {
        "id": "3u5xSF5dPQTT"
      }
    },
    {
      "cell_type": "code",
      "source": [
        "np.sum(a)"
      ],
      "metadata": {
        "id": "wfn87bu4OcuT"
      },
      "execution_count": null,
      "outputs": []
    },
    {
      "cell_type": "code",
      "source": [
        "np.prod(a)"
      ],
      "metadata": {
        "id": "pLc9K8m2OeLe"
      },
      "execution_count": null,
      "outputs": []
    },
    {
      "cell_type": "markdown",
      "source": [
        "Для большинства случаев могут использоваться оба варианта.\n",
        "Некие функции дают возможность оперировать статистическими данными. Это функции mean (среднее арифметическое), вариация и девиация:"
      ],
      "metadata": {
        "id": "qWItNTcsPTh5"
      }
    },
    {
      "cell_type": "code",
      "source": [
        "a.mean()"
      ],
      "metadata": {
        "id": "aAmKryhoPVzV"
      },
      "execution_count": null,
      "outputs": []
    },
    {
      "cell_type": "markdown",
      "source": [
        "В статистике **дисперсией** называют величину, которая характеризует меру разброса значений случайной величины относительно ее математического ожидания"
      ],
      "metadata": {
        "id": "V2iUy3GWP5o6"
      }
    },
    {
      "cell_type": "code",
      "source": [
        "a.var()"
      ],
      "metadata": {
        "id": "DdJ6pEEVPXw1"
      },
      "execution_count": null,
      "outputs": []
    },
    {
      "cell_type": "markdown",
      "source": [
        "**Стандартное отклонение (std)** – это мера, на которую элементы набора отклоняются или расходятся от среднего значения."
      ],
      "metadata": {
        "id": "SkIEsr58UH3F"
      }
    },
    {
      "cell_type": "code",
      "source": [
        "a.std()"
      ],
      "metadata": {
        "id": "N4nf756NPab-"
      },
      "execution_count": null,
      "outputs": []
    },
    {
      "cell_type": "markdown",
      "source": [
        "Можно найти минимум и максимум в массиве:"
      ],
      "metadata": {
        "id": "QUHyMMB2UNWe"
      }
    },
    {
      "cell_type": "code",
      "source": [
        "a.min()"
      ],
      "metadata": {
        "id": "FIzNJrmZUO4k"
      },
      "execution_count": null,
      "outputs": []
    },
    {
      "cell_type": "code",
      "source": [
        "a.max()"
      ],
      "metadata": {
        "id": "A0Lj8rUSUQGY"
      },
      "execution_count": null,
      "outputs": []
    },
    {
      "cell_type": "markdown",
      "source": [
        "Функции argmin и argmax возвращают индекс минимального или максимального элемента:\n"
      ],
      "metadata": {
        "id": "9CfaiwFdUSLn"
      }
    },
    {
      "cell_type": "code",
      "source": [
        "a.argmin()"
      ],
      "metadata": {
        "id": "swFJOP4sUT4_"
      },
      "execution_count": null,
      "outputs": []
    },
    {
      "cell_type": "code",
      "source": [
        "a.argmax()"
      ],
      "metadata": {
        "id": "YAOx2aILUVRy"
      },
      "execution_count": null,
      "outputs": []
    },
    {
      "cell_type": "markdown",
      "source": [
        "Как и списки, массивы можно отсортировать:"
      ],
      "metadata": {
        "id": "LhWEToAkUodZ"
      }
    },
    {
      "cell_type": "code",
      "source": [
        "a = np.array([6, 2, 5, -1, 0], float)"
      ],
      "metadata": {
        "id": "ZJSoukFPUn5a"
      },
      "execution_count": null,
      "outputs": []
    },
    {
      "cell_type": "code",
      "source": [
        "sorted(a)"
      ],
      "metadata": {
        "id": "eHESOVFoUrci"
      },
      "execution_count": null,
      "outputs": []
    },
    {
      "cell_type": "code",
      "source": [
        "a.sort()"
      ],
      "metadata": {
        "id": "xmTRHFdiUQMO"
      },
      "execution_count": null,
      "outputs": []
    },
    {
      "cell_type": "markdown",
      "source": [
        "Уникальные элементы могут быть извлечены вот так:"
      ],
      "metadata": {
        "id": "7_PF6ODxU2jx"
      }
    },
    {
      "cell_type": "code",
      "source": [
        "a = np.array([1, 1, 4, 5, 5, 5, 7], float)"
      ],
      "metadata": {
        "id": "HdlSFl6EU4hQ"
      },
      "execution_count": null,
      "outputs": []
    },
    {
      "cell_type": "code",
      "source": [
        "np.unique(a)"
      ],
      "metadata": {
        "id": "1Qitwh_uU50O"
      },
      "execution_count": null,
      "outputs": []
    },
    {
      "cell_type": "markdown",
      "source": [
        "Для двухмерных массивов диагональ можно получить так:"
      ],
      "metadata": {
        "id": "zUmwQT2iU8g9"
      }
    },
    {
      "cell_type": "code",
      "source": [
        "a = np.array([[1, 2], [3, 4]], float)"
      ],
      "metadata": {
        "id": "Bciy5MMqU-V9"
      },
      "execution_count": null,
      "outputs": []
    },
    {
      "cell_type": "code",
      "source": [
        "a.diagonal()"
      ],
      "metadata": {
        "id": "O6l2qQEkU_xl"
      },
      "execution_count": null,
      "outputs": []
    },
    {
      "cell_type": "markdown",
      "source": [
        "# Операторы сравнения и тестирование значений"
      ],
      "metadata": {
        "id": "COH844QkVRDw"
      }
    },
    {
      "cell_type": "markdown",
      "source": [
        "Булево сравнение может быть использовано для поэлементного сравнения массивов одинаковых длин. Возвращаемое значение это массив булевых True/False значений:"
      ],
      "metadata": {
        "id": "xwaOcDAuVUNA"
      }
    },
    {
      "cell_type": "code",
      "source": [
        "a = np.array([1, 3, 0], float)\n",
        "b = np.array([0, 3, 2], float)"
      ],
      "metadata": {
        "id": "rOnH7S8mVV-N"
      },
      "execution_count": null,
      "outputs": []
    },
    {
      "cell_type": "code",
      "source": [
        "a > b"
      ],
      "metadata": {
        "id": "SYDPKsHqVYFr"
      },
      "execution_count": null,
      "outputs": []
    },
    {
      "cell_type": "code",
      "source": [
        "a == b"
      ],
      "metadata": {
        "id": "NVbhoABKVade"
      },
      "execution_count": null,
      "outputs": []
    },
    {
      "cell_type": "code",
      "source": [
        "a <= b"
      ],
      "metadata": {
        "id": "GU5C_7cAVckJ"
      },
      "execution_count": null,
      "outputs": []
    },
    {
      "cell_type": "markdown",
      "source": [
        "Результат сравнения может быть сохранен в массиве:"
      ],
      "metadata": {
        "id": "_W-edJWAVew7"
      }
    },
    {
      "cell_type": "code",
      "source": [
        "c = a > b"
      ],
      "metadata": {
        "id": "yFfq9G0zVgLv"
      },
      "execution_count": null,
      "outputs": []
    },
    {
      "cell_type": "markdown",
      "source": [
        "Массивы могут быть сравнены с одиночным значением:"
      ],
      "metadata": {
        "id": "932uHTucVi2Z"
      }
    },
    {
      "cell_type": "code",
      "source": [
        "a = np.array([1, 3, 0], float)"
      ],
      "metadata": {
        "id": "8bdDyBv5VkUo"
      },
      "execution_count": null,
      "outputs": []
    },
    {
      "cell_type": "code",
      "source": [
        "a > 2"
      ],
      "metadata": {
        "id": "FUrMWzwGVl2S"
      },
      "execution_count": null,
      "outputs": []
    }
  ]
}
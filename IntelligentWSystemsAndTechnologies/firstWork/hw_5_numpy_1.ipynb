{
  "nbformat": 4,
  "nbformat_minor": 0,
  "metadata": {
    "colab": {
      "provenance": [],
      "include_colab_link": true
    },
    "kernelspec": {
      "name": "python3",
      "display_name": "Python 3"
    },
    "language_info": {
      "name": "python"
    }
  },
  "cells": [
    {
      "cell_type": "markdown",
      "metadata": {
        "id": "view-in-github",
        "colab_type": "text"
      },
      "source": [
        "<a href=\"https://colab.research.google.com/github/Nurs0305n/Python/blob/main/hw_5_numpy_1.ipynb\" target=\"_parent\"><img src=\"https://colab.research.google.com/assets/colab-badge.svg\" alt=\"Open In Colab\"/></a>"
      ]
    },
    {
      "cell_type": "markdown",
      "source": [
        "# Задача 1: Создание массивов с помощью NumPy\n",
        "\n",
        "NumPy предоставляет множество функций для создания массивов. Ваша задача - использовать эти функции для создания и манипуляции массивами.\n"
      ],
      "metadata": {
        "id": "YDYT9npKDdaJ"
      }
    },
    {
      "cell_type": "markdown",
      "source": [
        "Создайте одномерный массив размером 20, заполненный нулями.\n",
        "Ожидаемый результат: Одномерный массив размером 20, все элементы которого равны нулю.\n"
      ],
      "metadata": {
        "id": "xG1YM9vgDo0W"
      }
    },
    {
      "cell_type": "code",
      "source": [
        "# место для ответа\n",
        "import numpy as np\n",
        "np.zeros(20)"
      ],
      "metadata": {
        "id": "W63kPuqKDoLO",
        "colab": {
          "base_uri": "https://localhost:8080/"
        },
        "outputId": "e9a3938f-27e8-4d69-b1da-f20967b124d7"
      },
      "execution_count": null,
      "outputs": [
        {
          "output_type": "execute_result",
          "data": {
            "text/plain": [
              "array([0., 0., 0., 0., 0., 0., 0., 0., 0., 0., 0., 0., 0., 0., 0., 0., 0.,\n",
              "       0., 0., 0.])"
            ]
          },
          "metadata": {},
          "execution_count": 1
        }
      ]
    },
    {
      "cell_type": "markdown",
      "source": [
        "Создайте двумерный массив размером 3x3, заполненный единицами.\n",
        "Ожидаемый результат: Двумерный массив 3x3, все элементы которого равны единице.\n"
      ],
      "metadata": {
        "id": "o_YxpbfWDqZh"
      }
    },
    {
      "cell_type": "code",
      "source": [
        "# место для ответа\n",
        "np.ones((3, 3))"
      ],
      "metadata": {
        "id": "vE4F1WH_DscT",
        "colab": {
          "base_uri": "https://localhost:8080/"
        },
        "outputId": "b4787bb1-68b0-4f64-b96c-d2d1f72b3dfa"
      },
      "execution_count": null,
      "outputs": [
        {
          "output_type": "execute_result",
          "data": {
            "text/plain": [
              "array([[1., 1., 1.],\n",
              "       [1., 1., 1.],\n",
              "       [1., 1., 1.]])"
            ]
          },
          "metadata": {},
          "execution_count": 2
        }
      ]
    },
    {
      "cell_type": "markdown",
      "source": [
        "Создайте массив размером 4x4, заполненный числом π.\n",
        "Ожидаемый результат: Массив 4x4, все элементы которого равны π.\n"
      ],
      "metadata": {
        "id": "C_DGUMDTDr70"
      }
    },
    {
      "cell_type": "code",
      "source": [
        "# место для ответа\n",
        "np.full((4, 4), 2)"
      ],
      "metadata": {
        "id": "txLOb6poDuBL",
        "colab": {
          "base_uri": "https://localhost:8080/"
        },
        "outputId": "30dabca2-df52-4954-db65-67e8a986c556"
      },
      "execution_count": null,
      "outputs": [
        {
          "output_type": "execute_result",
          "data": {
            "text/plain": [
              "array([[2, 2, 2, 2],\n",
              "       [2, 2, 2, 2],\n",
              "       [2, 2, 2, 2],\n",
              "       [2, 2, 2, 2]])"
            ]
          },
          "metadata": {},
          "execution_count": 3
        }
      ]
    },
    {
      "cell_type": "markdown",
      "source": [
        "Создайте одномерный массив, содержащий последовательность чисел от 0 до 100 с шагом 5.\n",
        "Ожидаемый результат: Массив, содержащий числа: 0, 5, 10, ..., 100.\n"
      ],
      "metadata": {
        "id": "kmxVTipiDuIU"
      }
    },
    {
      "cell_type": "code",
      "source": [
        "# место для ответа\n"
      ],
      "metadata": {
        "id": "ZACAfj3jDvlk"
      },
      "execution_count": null,
      "outputs": []
    },
    {
      "cell_type": "markdown",
      "source": [
        "Создайте двумерный массив 5x5, в котором на главной диагонали стоят числа от 1 до 5, а все остальные элементы равны нулю.\n",
        "Ожидаемый результат: Массив 5x5, на главной диагонали которого числа от 1 до 5, а все остальные элементы равны нулю."
      ],
      "metadata": {
        "id": "vv2wKhjiDv3q"
      }
    },
    {
      "cell_type": "code",
      "source": [
        "# место для ответа"
      ],
      "metadata": {
        "id": "MDZVIpNKDwij",
        "colab": {
          "base_uri": "https://localhost:8080/"
        },
        "outputId": "c7b11f4c-9720-4f17-8996-87a6addbca3b"
      },
      "execution_count": null,
      "outputs": [
        {
          "output_type": "execute_result",
          "data": {
            "text/plain": [
              "array([[1, 0, 0, 0, 0],\n",
              "       [0, 2, 0, 0, 0],\n",
              "       [0, 0, 3, 0, 0],\n",
              "       [0, 0, 0, 4, 0],\n",
              "       [0, 0, 0, 0, 5]])"
            ]
          },
          "metadata": {},
          "execution_count": 2
        }
      ]
    },
    {
      "cell_type": "markdown",
      "source": [
        "# Задача 2: Использование NumPy для генерации случайных чисел\n",
        "\n",
        "NumPy предоставляет множество функций для генерации случайных чисел. Ваша задача - использовать эти функции для создания массивов и выполнения операций над ними."
      ],
      "metadata": {
        "id": "fQ2Qlml5IOmd"
      }
    },
    {
      "cell_type": "markdown",
      "source": [
        "Создайте одномерный массив из 10 случайных чисел в интервале от 0 до 1.\n",
        "Ожидаемый результат: Массив из 10 случайных чисел."
      ],
      "metadata": {
        "id": "iOCO4rBkIopb"
      }
    },
    {
      "cell_type": "code",
      "source": [
        "# место для ответа\n"
      ],
      "metadata": {
        "id": "GIYYeuJAIpxX"
      },
      "execution_count": null,
      "outputs": []
    },
    {
      "cell_type": "markdown",
      "source": [
        "Создайте двумерный массив размером 3x3, содержащий случайные числа от 0 до 1.\n",
        "Ожидаемый результат: Массив 3x3 со случайными числами."
      ],
      "metadata": {
        "id": "B5r8YzfSIs6M"
      }
    },
    {
      "cell_type": "code",
      "source": [
        "# место для ответа\n"
      ],
      "metadata": {
        "id": "epByMa3HJDTx"
      },
      "execution_count": null,
      "outputs": []
    },
    {
      "cell_type": "markdown",
      "source": [
        "Создайте одномерный массив из 20 случайных целых чисел в интервале от 1 до 10.\n",
        "Ожидаемый результат: Массив из 20 случайных целых чисел в интервале от 1 до 10."
      ],
      "metadata": {
        "id": "uW25W1MWJDeT"
      }
    },
    {
      "cell_type": "code",
      "source": [
        "# место для ответа\n"
      ],
      "metadata": {
        "id": "ZE6AGJFWJHi6"
      },
      "execution_count": null,
      "outputs": []
    },
    {
      "cell_type": "markdown",
      "source": [
        "Функция `np.random.seed()` используется для инициализации генератора случайных чисел. Вы можете использовать любое целое число в качестве \"семени\". Ваша задача - использовать эту функцию для контроля генерации случайных чисел."
      ],
      "metadata": {
        "id": "CRXHVhtWJMD0"
      }
    },
    {
      "cell_type": "markdown",
      "source": [
        "Задайте семя генератора случайных чисел, используя np.random.seed(0), и сгенерируйте одномерный массив из 5 случайных чисел в интервале от 0 до 1. Запишите результат.\n",
        "Ожидаемый результат: Одномерный массив из 5 случайных чисел."
      ],
      "metadata": {
        "id": "ELFuYVYXJPJj"
      }
    },
    {
      "cell_type": "code",
      "source": [
        "# место для ответа\n"
      ],
      "metadata": {
        "id": "M2zyZW4-JRBJ"
      },
      "execution_count": null,
      "outputs": []
    },
    {
      "cell_type": "markdown",
      "source": [
        "Затем еще раз задайте семя генератора случайных чисел, используя ту же команду `np.random.seed(0)`, и снова сгенерируйте одномерный массив из 5 случайных чисел в интервале от 0 до 1. Сравните результат с полученным в первом шаге.\n",
        "Ожидаемый результат: Одномерный массив из 5 случайных чисел, который должен быть идентичен массиву, полученному в первом шаге."
      ],
      "metadata": {
        "id": "D7zeQcbZJRIa"
      }
    },
    {
      "cell_type": "code",
      "source": [
        "# место для ответа\n"
      ],
      "metadata": {
        "id": "Z4ncEQWSJWol"
      },
      "execution_count": null,
      "outputs": []
    },
    {
      "cell_type": "markdown",
      "source": [
        "Теперь задайте семя генератора случайных чисел с другим значением, например, `np.random.seed(1)`, и сгенерируйте одномерный массив из 5 случайных чисел в интервале от 0 до 1. Сравните результат с полученными ранее.\n",
        "Ожидаемый результат: Одномерный массив из 5 случайных чисел, который отличается от массивов, полученных в предыдущих шагах."
      ],
      "metadata": {
        "id": "Jl2NPQP7JTTo"
      }
    },
    {
      "cell_type": "code",
      "source": [
        "# место для ответа\n"
      ],
      "metadata": {
        "id": "wwCfcmsMJVUy"
      },
      "execution_count": null,
      "outputs": []
    },
    {
      "cell_type": "markdown",
      "source": [
        "# Задача 3: Выполнение векторных операций с помощью NumPy\n",
        "\n",
        "NumPy позволяет выполнять векторные операции над массивами без необходимости использовать циклы. Ваша задача - использовать NumPy для выполнения следующих векторных операций."
      ],
      "metadata": {
        "id": "Kiwvfp4oJwzC"
      }
    },
    {
      "cell_type": "markdown",
      "source": [
        "Создайте два одномерных массива размером 10, содержащих случайные числа. Выполните поэлементное сложение этих двух массивов.\n",
        "Ожидаемый результат: Одномерный массив размером 10, содержащий сумму элементов двух исходных массивов."
      ],
      "metadata": {
        "id": "9eHHoxMbJyRH"
      }
    },
    {
      "cell_type": "code",
      "source": [
        "# место для ответа\n"
      ],
      "metadata": {
        "id": "y3ySAor8J0Sz"
      },
      "execution_count": null,
      "outputs": []
    },
    {
      "cell_type": "markdown",
      "source": [
        "Используйте один из созданных массивов и возведите все его элементы в квадрат.\n",
        "Ожидаемый результат: Одномерный массив, все элементы которого возведены в квадрат."
      ],
      "metadata": {
        "id": "efIrSjRoJz0J"
      }
    },
    {
      "cell_type": "code",
      "source": [
        "# место для ответа\n"
      ],
      "metadata": {
        "id": "kNB-8aU_J259"
      },
      "execution_count": null,
      "outputs": []
    },
    {
      "cell_type": "markdown",
      "source": [
        "Создайте два двумерных массива размером 3x3, содержащих случайные числа. Выполните поэлементное умножение этих двух массивов.\n",
        "Ожидаемый результат: Двумерный массив 3x3, содержащий произведение элементов двух исходных массивов."
      ],
      "metadata": {
        "id": "M4iKoI8PJ3Tx"
      }
    },
    {
      "cell_type": "code",
      "source": [
        "# место для ответа\n"
      ],
      "metadata": {
        "id": "JIeg1eTNJ48W"
      },
      "execution_count": null,
      "outputs": []
    },
    {
      "cell_type": "markdown",
      "source": [
        "Используйте один из созданных двумерных массивов и вычислите среднее значение всех его элементов.\n",
        "Ожидаемый результат: Число, представляющее среднее значение всех элементов массива."
      ],
      "metadata": {
        "id": "acFhBTayJ5S8"
      }
    },
    {
      "cell_type": "code",
      "source": [
        "# место для ответа\n"
      ],
      "metadata": {
        "id": "ScC8h6rfJ7eD"
      },
      "execution_count": null,
      "outputs": []
    },
    {
      "cell_type": "markdown",
      "source": [
        "Создайте одномерный массив, содержащий последовательность чисел от 1 до 10, и вычислите кумулятивную сумму его элементов.\n",
        "Ожидаемый результат: Одномерный массив, содержащий кумулятивную сумму элементов исходного массива."
      ],
      "metadata": {
        "id": "PQaGSHPNJ9of"
      }
    },
    {
      "cell_type": "code",
      "source": [
        "# место для ответа\n"
      ],
      "metadata": {
        "id": "QBWQjJpLJ-PO"
      },
      "execution_count": null,
      "outputs": []
    },
    {
      "cell_type": "markdown",
      "source": [
        "# Задача 4: Вычисление минимального, максимального и стандартного отклонения с помощью NumPy\n",
        "\n",
        "NumPy предоставляет функции для вычисления минимального и максимального значений, а также стандартного отклонения элементов массива. Ваша задача - использовать эти функции для анализа данных в массивах."
      ],
      "metadata": {
        "id": "XVeSL23nK3k2"
      }
    },
    {
      "cell_type": "markdown",
      "source": [
        "Создайте одномерный массив из 20 случайных чисел. Найдите минимальное и максимальное значение в этом массиве.\n",
        "Ожидаемый результат: Минимальное и максимальное значения массива."
      ],
      "metadata": {
        "id": "ba_4VsaxK6eK"
      }
    },
    {
      "cell_type": "code",
      "source": [
        "# место для ответа\n"
      ],
      "metadata": {
        "id": "JA4CB2DxK6yJ"
      },
      "execution_count": null,
      "outputs": []
    },
    {
      "cell_type": "markdown",
      "source": [
        "Используйте тот же одномерный массив и вычислите стандартное отклонение его элементов.\n",
        "Ожидаемый результат: Стандартное отклонение элементов массива."
      ],
      "metadata": {
        "id": "rklRevQ3K65D"
      }
    },
    {
      "cell_type": "code",
      "source": [
        "# место для ответа\n"
      ],
      "metadata": {
        "id": "vY2ZAj8_K8U1"
      },
      "execution_count": null,
      "outputs": []
    },
    {
      "cell_type": "markdown",
      "source": [
        "Создайте двумерный массив размером 5x5 из случайных чисел. Найдите минимальное и максимальное значение в этом массиве.\n",
        "Ожидаемый результат: Минимальное и максимальное значения массива.\n",
        "\n"
      ],
      "metadata": {
        "id": "-C1q8SsuK8cA"
      }
    },
    {
      "cell_type": "code",
      "source": [
        "# место для ответа\n"
      ],
      "metadata": {
        "id": "ThN66mh6K9-G"
      },
      "execution_count": null,
      "outputs": []
    },
    {
      "cell_type": "markdown",
      "source": [
        "Используйте этот же двумерный массив и вычислите стандартное отклонение его элементов.\n",
        "Ожидаемый результат: Стандартное отклонение элементов массива.\n",
        "\n"
      ],
      "metadata": {
        "id": "iLYyWQHZK-G1"
      }
    },
    {
      "cell_type": "code",
      "source": [
        "# место для ответа\n"
      ],
      "metadata": {
        "id": "kLq99vpsK_iQ"
      },
      "execution_count": null,
      "outputs": []
    },
    {
      "cell_type": "markdown",
      "source": [
        "Найдите минимальное и максимальное значение, а также стандартное отклонение вдоль каждого столбца двумерного массива.\n",
        "Ожидаемый результат: Минимальное и максимальное значение, а также стандартное отклонение для каждого столбца массива."
      ],
      "metadata": {
        "id": "Vwvyj9iSLA24"
      }
    },
    {
      "cell_type": "code",
      "source": [
        "# место для ответа\n"
      ],
      "metadata": {
        "id": "SQT7-3zYLBOU"
      },
      "execution_count": null,
      "outputs": []
    },
    {
      "cell_type": "markdown",
      "source": [
        "# Задача 5: Сортировка и нахождение уникальных значений с помощью NumPy\n",
        "\n",
        "NumPy предлагает функции для сортировки элементов массива и нахождения уникальных значений. Ваша задача - использовать эти функции для работы с данными в массивах."
      ],
      "metadata": {
        "id": "f5_w0F_JLVAF"
      }
    },
    {
      "cell_type": "markdown",
      "source": [
        "Создайте одномерный массив из 10 случайных целых чисел от 1 до 20. Отсортируйте этот массив в порядке возрастания.\n",
        "Ожидаемый результат: Отсортированный массив из 10 случайных чисел."
      ],
      "metadata": {
        "id": "KPXpPXHILXhf"
      }
    },
    {
      "cell_type": "code",
      "source": [
        "# место для ответа\n"
      ],
      "metadata": {
        "id": "uAlYvQu6LXu8"
      },
      "execution_count": null,
      "outputs": []
    },
    {
      "cell_type": "markdown",
      "source": [
        "Используя тот же одномерный массив, найдите все уникальные элементы этого массива.\n",
        "Ожидаемый результат: Массив, содержащий все уникальные элементы исходного массива."
      ],
      "metadata": {
        "id": "bfgsmJf2LZgV"
      }
    },
    {
      "cell_type": "code",
      "source": [
        "# место для ответа\n"
      ],
      "metadata": {
        "id": "S7ZfgtoXLZrj"
      },
      "execution_count": null,
      "outputs": []
    },
    {
      "cell_type": "markdown",
      "source": [
        "# Задача 6: Использование операторов сравнения и тестирование значений с NumPy\n",
        "\n",
        "NumPy предоставляет операторы для сравнения элементов массива и проверки определенных условий. Ваша задача - использовать эти функции для анализа данных в массивах."
      ],
      "metadata": {
        "id": "pFrD8JZgLkeA"
      }
    },
    {
      "cell_type": "markdown",
      "source": [
        "Создайте одномерный массив из 10 случайных чисел от 1 до 100. Создайте булев массив, который будет содержать `True` для всех элементов исходного массива, которые больше 50, и `False` - для всех остальных.\n",
        "Ожидаемый результат: Булев массив размером 10."
      ],
      "metadata": {
        "id": "DFSIfYphMgFG"
      }
    },
    {
      "cell_type": "code",
      "source": [
        "# место для ответа\n"
      ],
      "metadata": {
        "id": "oWCKcWBVMhDd"
      },
      "execution_count": null,
      "outputs": []
    },
    {
      "cell_type": "markdown",
      "source": [
        "Используя созданный булев массив, выберите из исходного массива только те элементы, которые больше 50.\n",
        "Ожидаемый результат: Массив элементов исходного массива, которые больше 50."
      ],
      "metadata": {
        "id": "YqZz3zFuMlcI"
      }
    },
    {
      "cell_type": "code",
      "source": [
        "# место для ответа\n"
      ],
      "metadata": {
        "id": "Sc4o5rPSMuIQ"
      },
      "execution_count": null,
      "outputs": []
    },
    {
      "cell_type": "markdown",
      "source": [
        "# Бонус задание\n",
        "\n",
        "Создайте двумерный массив размером 5x5 из случайных чисел от 1 до 50. Создайте булев массив, который будет содержать True для всех элементов исходного массива, которые четные, и False - для всех остальных.\n",
        "Ожидаемый результат: Булев массив размером 5x5."
      ],
      "metadata": {
        "id": "UVZz3tk3M6pF"
      }
    },
    {
      "cell_type": "code",
      "source": [
        "# место для ответа\n"
      ],
      "metadata": {
        "id": "lhX0reVaM9wR"
      },
      "execution_count": null,
      "outputs": []
    },
    {
      "cell_type": "markdown",
      "source": [
        "Используя созданный булев массив, выберите из исходного массива только те элементы, которые четные.\n",
        "Ожидаемый результат: Массив элементов исходного массива, которые четные."
      ],
      "metadata": {
        "id": "RbnvUsLUM92w"
      }
    },
    {
      "cell_type": "code",
      "source": [
        "# место для ответа\n"
      ],
      "metadata": {
        "id": "aUSpblZ7NEHd"
      },
      "execution_count": null,
      "outputs": []
    }
  ]
}

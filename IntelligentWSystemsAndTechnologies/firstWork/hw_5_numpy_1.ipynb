{
  "nbformat": 4,
  "nbformat_minor": 0,
  "metadata": {
    "colab": {
      "provenance": [],
      "include_colab_link": true
    },
    "kernelspec": {
      "name": "python3",
      "display_name": "Python 3"
    },
    "language_info": {
      "name": "python"
    }
  },
  "cells": [
    {
      "cell_type": "markdown",
      "metadata": {
        "id": "view-in-github",
        "colab_type": "text"
      },
      "source": [
        "<a href=\"https://colab.research.google.com/github/Nurs0305n/Python/blob/main/IntelligentWSystemsAndTechnologies/firstWork/hw_5_numpy_1.ipynb\" target=\"_parent\"><img src=\"https://colab.research.google.com/assets/colab-badge.svg\" alt=\"Open In Colab\"/></a>"
      ]
    },
    {
      "cell_type": "markdown",
      "source": [
        "# Задача 1: Создание массивов с помощью NumPy\n",
        "\n",
        "NumPy предоставляет множество функций для создания массивов. Ваша задача - использовать эти функции для создания и манипуляции массивами.\n"
      ],
      "metadata": {
        "id": "YDYT9npKDdaJ"
      }
    },
    {
      "cell_type": "markdown",
      "source": [
        "Создайте одномерный массив размером 20, заполненный нулями.\n",
        "Ожидаемый результат: Одномерный массив размером 20, все элементы которого равны нулю.\n"
      ],
      "metadata": {
        "id": "xG1YM9vgDo0W"
      }
    },
    {
      "cell_type": "code",
      "source": [
        "# место для ответа\n",
        "import numpy as np\n",
        "np.zeros(20)"
      ],
      "metadata": {
        "id": "W63kPuqKDoLO",
        "colab": {
          "base_uri": "https://localhost:8080/"
        },
        "outputId": "9a287d12-4525-44a3-9a53-bbf1d76b213c"
      },
      "execution_count": null,
      "outputs": [
        {
          "output_type": "execute_result",
          "data": {
            "text/plain": [
              "array([0., 0., 0., 0., 0., 0., 0., 0., 0., 0., 0., 0., 0., 0., 0., 0., 0.,\n",
              "       0., 0., 0.])"
            ]
          },
          "metadata": {},
          "execution_count": 2
        }
      ]
    },
    {
      "cell_type": "markdown",
      "source": [
        "Создайте двумерный массив размером 3x3, заполненный единицами.\n",
        "Ожидаемый результат: Двумерный массив 3x3, все элементы которого равны единице.\n"
      ],
      "metadata": {
        "id": "o_YxpbfWDqZh"
      }
    },
    {
      "cell_type": "code",
      "source": [
        "# место для ответа\n",
        "np.ones((3, 3))"
      ],
      "metadata": {
        "id": "vE4F1WH_DscT",
        "colab": {
          "base_uri": "https://localhost:8080/"
        },
        "outputId": "b4787bb1-68b0-4f64-b96c-d2d1f72b3dfa"
      },
      "execution_count": null,
      "outputs": [
        {
          "output_type": "execute_result",
          "data": {
            "text/plain": [
              "array([[1., 1., 1.],\n",
              "       [1., 1., 1.],\n",
              "       [1., 1., 1.]])"
            ]
          },
          "metadata": {},
          "execution_count": 2
        }
      ]
    },
    {
      "cell_type": "markdown",
      "source": [
        "Создайте массив размером 4x4, заполненный числом π.\n",
        "Ожидаемый результат: Массив 4x4, все элементы которого равны π.\n"
      ],
      "metadata": {
        "id": "C_DGUMDTDr70"
      }
    },
    {
      "cell_type": "code",
      "source": [
        "# место для ответа\n",
        "np.full((4, 4), 2)"
      ],
      "metadata": {
        "id": "txLOb6poDuBL",
        "colab": {
          "base_uri": "https://localhost:8080/"
        },
        "outputId": "30dabca2-df52-4954-db65-67e8a986c556"
      },
      "execution_count": null,
      "outputs": [
        {
          "output_type": "execute_result",
          "data": {
            "text/plain": [
              "array([[2, 2, 2, 2],\n",
              "       [2, 2, 2, 2],\n",
              "       [2, 2, 2, 2],\n",
              "       [2, 2, 2, 2]])"
            ]
          },
          "metadata": {},
          "execution_count": 3
        }
      ]
    },
    {
      "cell_type": "markdown",
      "source": [
        "Создайте одномерный массив, содержащий последовательность чисел от 0 до 100 с шагом 5.\n",
        "Ожидаемый результат: Массив, содержащий числа: 0, 5, 10, ..., 100.\n"
      ],
      "metadata": {
        "id": "kmxVTipiDuIU"
      }
    },
    {
      "cell_type": "code",
      "source": [
        "# место для ответа\n",
        "np.arange(0, 100, 5)"
      ],
      "metadata": {
        "id": "ZACAfj3jDvlk",
        "colab": {
          "base_uri": "https://localhost:8080/"
        },
        "outputId": "7a7f4402-786c-4d97-a55f-c184653e11ac"
      },
      "execution_count": null,
      "outputs": [
        {
          "output_type": "execute_result",
          "data": {
            "text/plain": [
              "array([ 0,  5, 10, 15, 20, 25, 30, 35, 40, 45, 50, 55, 60, 65, 70, 75, 80,\n",
              "       85, 90, 95])"
            ]
          },
          "metadata": {},
          "execution_count": 6
        }
      ]
    },
    {
      "cell_type": "markdown",
      "source": [
        "Создайте двумерный массив 5x5, в котором на главной диагонали стоят числа от 1 до 5, а все остальные элементы равны нулю.\n",
        "Ожидаемый результат: Массив 5x5, на главной диагонали которого числа от 1 до 5, а все остальные элементы равны нулю."
      ],
      "metadata": {
        "id": "vv2wKhjiDv3q"
      }
    },
    {
      "cell_type": "code",
      "source": [
        "# место для ответа\n",
        "a = np.zeros((5, 5))\n",
        "a[0, 0] = 1\n",
        "a[1, 1] = 2\n",
        "a[2, 2] = 3\n",
        "a[3, 3] = 4\n",
        "a[4, 4] = 5\n",
        "print(a)"
      ],
      "metadata": {
        "id": "MDZVIpNKDwij",
        "colab": {
          "base_uri": "https://localhost:8080/"
        },
        "outputId": "ba78e1e9-a0ae-416d-c30b-69cff68bf0c3"
      },
      "execution_count": null,
      "outputs": [
        {
          "output_type": "stream",
          "name": "stdout",
          "text": [
            "[[1. 0. 0. 0. 0.]\n",
            " [0. 2. 0. 0. 0.]\n",
            " [0. 0. 3. 0. 0.]\n",
            " [0. 0. 0. 4. 0.]\n",
            " [0. 0. 0. 0. 5.]]\n"
          ]
        }
      ]
    },
    {
      "cell_type": "markdown",
      "source": [
        "# Задача 2: Использование NumPy для генерации случайных чисел\n",
        "\n",
        "NumPy предоставляет множество функций для генерации случайных чисел. Ваша задача - использовать эти функции для создания массивов и выполнения операций над ними."
      ],
      "metadata": {
        "id": "fQ2Qlml5IOmd"
      }
    },
    {
      "cell_type": "markdown",
      "source": [
        "Создайте одномерный массив из 10 случайных чисел в интервале от 0 до 1.\n",
        "Ожидаемый результат: Массив из 10 случайных чисел."
      ],
      "metadata": {
        "id": "iOCO4rBkIopb"
      }
    },
    {
      "cell_type": "code",
      "source": [
        "# место для ответа\n",
        "\n",
        "np.random.random_sample(10)"
      ],
      "metadata": {
        "id": "GIYYeuJAIpxX",
        "colab": {
          "base_uri": "https://localhost:8080/"
        },
        "outputId": "4f81cf42-2656-483f-a6a9-3809c1e796fa"
      },
      "execution_count": null,
      "outputs": [
        {
          "output_type": "execute_result",
          "data": {
            "text/plain": [
              "array([0.18075443, 0.10981401, 0.52415454, 0.65389573, 0.52307784,\n",
              "       0.10304788, 0.29100404, 0.08086636, 0.88975308, 0.42385278])"
            ]
          },
          "metadata": {},
          "execution_count": 22
        }
      ]
    },
    {
      "cell_type": "markdown",
      "source": [
        "Создайте двумерный массив размером 3x3, содержащий случайные числа от 0 до 1.\n",
        "Ожидаемый результат: Массив 3x3 со случайными числами."
      ],
      "metadata": {
        "id": "B5r8YzfSIs6M"
      }
    },
    {
      "cell_type": "code",
      "source": [
        "# место для ответа\n",
        "np.random.random_sample((3,3))"
      ],
      "metadata": {
        "id": "epByMa3HJDTx",
        "colab": {
          "base_uri": "https://localhost:8080/"
        },
        "outputId": "9cb9cbba-d2bd-4ae7-873c-e2c4d5b8e305"
      },
      "execution_count": null,
      "outputs": [
        {
          "output_type": "execute_result",
          "data": {
            "text/plain": [
              "array([[0.42008468, 0.97202398, 0.82620822],\n",
              "       [0.56844773, 0.9447301 , 0.44153781],\n",
              "       [0.80882906, 0.40838506, 0.37734561]])"
            ]
          },
          "metadata": {},
          "execution_count": 23
        }
      ]
    },
    {
      "cell_type": "markdown",
      "source": [
        "Создайте одномерный массив из 20 случайных целых чисел в интервале от 1 до 10.\n",
        "Ожидаемый результат: Массив из 20 случайных целых чисел в интервале от 1 до 10."
      ],
      "metadata": {
        "id": "uW25W1MWJDeT"
      }
    },
    {
      "cell_type": "code",
      "source": [
        "# место для ответа\n",
        "np.random.randint(1,10, 20)"
      ],
      "metadata": {
        "id": "ZE6AGJFWJHi6",
        "colab": {
          "base_uri": "https://localhost:8080/"
        },
        "outputId": "b0ac557b-f1a9-41e1-92c4-590fd1b7569e"
      },
      "execution_count": null,
      "outputs": [
        {
          "output_type": "execute_result",
          "data": {
            "text/plain": [
              "array([2, 1, 4, 7, 2, 3, 5, 5, 1, 2, 6, 9, 3, 7, 7, 7, 4, 3, 1, 1])"
            ]
          },
          "metadata": {},
          "execution_count": 24
        }
      ]
    },
    {
      "cell_type": "markdown",
      "source": [
        "Функция `np.random.seed()` используется для инициализации генератора случайных чисел. Вы можете использовать любое целое число в качестве \"семени\". Ваша задача - использовать эту функцию для контроля генерации случайных чисел."
      ],
      "metadata": {
        "id": "CRXHVhtWJMD0"
      }
    },
    {
      "cell_type": "markdown",
      "source": [
        "Задайте семя генератора случайных чисел, используя np.random.seed(0), и сгенерируйте одномерный массив из 5 случайных чисел в интервале от 0 до 1. Запишите результат.\n",
        "Ожидаемый результат: Одномерный массив из 5 случайных чисел."
      ],
      "metadata": {
        "id": "ELFuYVYXJPJj"
      }
    },
    {
      "cell_type": "code",
      "source": [
        "# место для ответа\n",
        "np.random.seed(0)\n",
        "np.random.random(5)"
      ],
      "metadata": {
        "id": "M2zyZW4-JRBJ",
        "colab": {
          "base_uri": "https://localhost:8080/"
        },
        "outputId": "83df7bde-be86-4d52-f11c-eaa37db9575a"
      },
      "execution_count": 34,
      "outputs": [
        {
          "output_type": "execute_result",
          "data": {
            "text/plain": [
              "array([0.5488135 , 0.71518937, 0.60276338, 0.54488318, 0.4236548 ])"
            ]
          },
          "metadata": {},
          "execution_count": 34
        }
      ]
    },
    {
      "cell_type": "markdown",
      "source": [
        "Затем еще раз задайте семя генератора случайных чисел, используя ту же команду `np.random.seed(0)`, и снова сгенерируйте одномерный массив из 5 случайных чисел в интервале от 0 до 1. Сравните результат с полученным в первом шаге.\n",
        "Ожидаемый результат: Одномерный массив из 5 случайных чисел, который должен быть идентичен массиву, полученному в первом шаге."
      ],
      "metadata": {
        "id": "D7zeQcbZJRIa"
      }
    },
    {
      "cell_type": "code",
      "source": [
        "# место для ответа\n",
        "np.random.seed(0)\n",
        "np.random.random(5)"
      ],
      "metadata": {
        "id": "Z4ncEQWSJWol",
        "outputId": "082b069b-0276-4a76-9200-48338fd899fa",
        "colab": {
          "base_uri": "https://localhost:8080/"
        }
      },
      "execution_count": 35,
      "outputs": [
        {
          "output_type": "execute_result",
          "data": {
            "text/plain": [
              "array([0.5488135 , 0.71518937, 0.60276338, 0.54488318, 0.4236548 ])"
            ]
          },
          "metadata": {},
          "execution_count": 35
        }
      ]
    },
    {
      "cell_type": "markdown",
      "source": [
        "Теперь задайте семя генератора случайных чисел с другим значением, например, `np.random.seed(1)`, и сгенерируйте одномерный массив из 5 случайных чисел в интервале от 0 до 1. Сравните результат с полученными ранее.\n",
        "Ожидаемый результат: Одномерный массив из 5 случайных чисел, который отличается от массивов, полученных в предыдущих шагах."
      ],
      "metadata": {
        "id": "Jl2NPQP7JTTo"
      }
    },
    {
      "cell_type": "code",
      "source": [
        "# место для ответа\n",
        "np.random.seed(1)\n",
        "np.random.random(5)"
      ],
      "metadata": {
        "id": "wwCfcmsMJVUy",
        "outputId": "d87327c7-fb3b-4a1b-96b6-94d0bcc2d248",
        "colab": {
          "base_uri": "https://localhost:8080/"
        }
      },
      "execution_count": 38,
      "outputs": [
        {
          "output_type": "execute_result",
          "data": {
            "text/plain": [
              "array([4.17022005e-01, 7.20324493e-01, 1.14374817e-04, 3.02332573e-01,\n",
              "       1.46755891e-01])"
            ]
          },
          "metadata": {},
          "execution_count": 38
        }
      ]
    },
    {
      "cell_type": "markdown",
      "source": [
        "# Задача 3: Выполнение векторных операций с помощью NumPy\n",
        "\n",
        "NumPy позволяет выполнять векторные операции над массивами без необходимости использовать циклы. Ваша задача - использовать NumPy для выполнения следующих векторных операций."
      ],
      "metadata": {
        "id": "Kiwvfp4oJwzC"
      }
    },
    {
      "cell_type": "markdown",
      "source": [
        "Создайте два одномерных массива размером 10, содержащих случайные числа. Выполните поэлементное сложение этих двух массивов.\n",
        "Ожидаемый результат: Одномерный массив размером 10, содержащий сумму элементов двух исходных массивов."
      ],
      "metadata": {
        "id": "9eHHoxMbJyRH"
      }
    },
    {
      "cell_type": "code",
      "source": [
        "# место для ответа\n",
        "array1 = np.random.randint(0, 10, 10)\n",
        "array2 = np.random.randint(0, 10, 10)\n",
        "\n",
        "array1 + array2"
      ],
      "metadata": {
        "id": "y3ySAor8J0Sz",
        "outputId": "cf6b213b-ffed-4a07-eb55-6887511c25af",
        "colab": {
          "base_uri": "https://localhost:8080/"
        }
      },
      "execution_count": 48,
      "outputs": [
        {
          "output_type": "execute_result",
          "data": {
            "text/plain": [
              "array([17,  9, 11,  3,  9, 14,  3,  9,  7, 13])"
            ]
          },
          "metadata": {},
          "execution_count": 48
        }
      ]
    },
    {
      "cell_type": "markdown",
      "source": [
        "Используйте один из созданных массивов и возведите все его элементы в квадрат.\n",
        "Ожидаемый результат: Одномерный массив, все элементы которого возведены в квадрат."
      ],
      "metadata": {
        "id": "efIrSjRoJz0J"
      }
    },
    {
      "cell_type": "code",
      "source": [
        "# место для ответа\n",
        "array2**2"
      ],
      "metadata": {
        "id": "kNB-8aU_J259",
        "outputId": "046e6478-6a7d-4b69-b64b-e864b3ec2f3f",
        "colab": {
          "base_uri": "https://localhost:8080/"
        }
      },
      "execution_count": 56,
      "outputs": [
        {
          "output_type": "execute_result",
          "data": {
            "text/plain": [
              "array([64,  1, 16,  0,  9, 81,  4,  0, 16, 81])"
            ]
          },
          "metadata": {},
          "execution_count": 56
        }
      ]
    },
    {
      "cell_type": "markdown",
      "source": [
        "Создайте два двумерных массива размером 3x3, содержащих случайные числа. Выполните поэлементное умножение этих двух массивов.\n",
        "Ожидаемый результат: Двумерный массив 3x3, содержащий произведение элементов двух исходных массивов."
      ],
      "metadata": {
        "id": "M4iKoI8PJ3Tx"
      }
    },
    {
      "cell_type": "code",
      "source": [
        "# место для ответа\n",
        "a = np.random.randint(0,10,(3,3))\n",
        "b = np.random.randint(0,10,(3,3))\n",
        "\n",
        "a*b"
      ],
      "metadata": {
        "id": "JIeg1eTNJ48W",
        "outputId": "39af9c70-69bc-4031-b5a3-7a1f31ca2ad6",
        "colab": {
          "base_uri": "https://localhost:8080/"
        }
      },
      "execution_count": 57,
      "outputs": [
        {
          "output_type": "execute_result",
          "data": {
            "text/plain": [
              "array([[14, 28, 35],\n",
              "       [81, 24, 36],\n",
              "       [72,  0, 14]])"
            ]
          },
          "metadata": {},
          "execution_count": 57
        }
      ]
    },
    {
      "cell_type": "markdown",
      "source": [
        "Используйте один из созданных двумерных массивов и вычислите среднее значение всех его элементов.\n",
        "Ожидаемый результат: Число, представляющее среднее значение всех элементов массива."
      ],
      "metadata": {
        "id": "acFhBTayJ5S8"
      }
    },
    {
      "cell_type": "code",
      "source": [
        "# место для ответа\n",
        "np.mean(a)"
      ],
      "metadata": {
        "id": "ScC8h6rfJ7eD",
        "outputId": "9d0e2a12-24e0-4335-c785-f9cb5fe735a2",
        "colab": {
          "base_uri": "https://localhost:8080/"
        }
      },
      "execution_count": 62,
      "outputs": [
        {
          "output_type": "execute_result",
          "data": {
            "text/plain": [
              "6.444444444444445"
            ]
          },
          "metadata": {},
          "execution_count": 62
        }
      ]
    },
    {
      "cell_type": "markdown",
      "source": [
        "Создайте одномерный массив, содержащий последовательность чисел от 1 до 10, и вычислите кумулятивную сумму его элементов.\n",
        "Ожидаемый результат: Одномерный массив, содержащий кумулятивную сумму элементов исходного массива."
      ],
      "metadata": {
        "id": "PQaGSHPNJ9of"
      }
    },
    {
      "cell_type": "code",
      "source": [
        "# место для ответа\n",
        "c = np.arange(1, 11, 1)\n",
        "np.cumsum(c)"
      ],
      "metadata": {
        "id": "QBWQjJpLJ-PO",
        "outputId": "bd4d56e8-09f5-480f-d62f-6e91eacd1441",
        "colab": {
          "base_uri": "https://localhost:8080/"
        }
      },
      "execution_count": 68,
      "outputs": [
        {
          "output_type": "execute_result",
          "data": {
            "text/plain": [
              "array([ 1,  3,  6, 10, 15, 21, 28, 36, 45, 55])"
            ]
          },
          "metadata": {},
          "execution_count": 68
        }
      ]
    },
    {
      "cell_type": "markdown",
      "source": [
        "# Задача 4: Вычисление минимального, максимального и стандартного отклонения с помощью NumPy\n",
        "\n",
        "NumPy предоставляет функции для вычисления минимального и максимального значений, а также стандартного отклонения элементов массива. Ваша задача - использовать эти функции для анализа данных в массивах."
      ],
      "metadata": {
        "id": "XVeSL23nK3k2"
      }
    },
    {
      "cell_type": "markdown",
      "source": [
        "Создайте одномерный массив из 20 случайных чисел. Найдите минимальное и максимальное значение в этом массиве.\n",
        "Ожидаемый результат: Минимальное и максимальное значения массива."
      ],
      "metadata": {
        "id": "ba_4VsaxK6eK"
      }
    },
    {
      "cell_type": "code",
      "source": [
        "# место для ответа\n",
        "a = np.random.randint(0, 100, 20)\n",
        "print(a.min())\n",
        "print(a.max())"
      ],
      "metadata": {
        "id": "JA4CB2DxK6yJ",
        "outputId": "109ff1fc-0175-4262-de0a-15f1c7478878",
        "colab": {
          "base_uri": "https://localhost:8080/"
        }
      },
      "execution_count": 72,
      "outputs": [
        {
          "output_type": "stream",
          "name": "stdout",
          "text": [
            "7\n",
            "97\n"
          ]
        }
      ]
    },
    {
      "cell_type": "markdown",
      "source": [
        "Используйте тот же одномерный массив и вычислите стандартное отклонение его элементов.\n",
        "Ожидаемый результат: Стандартное отклонение элементов массива."
      ],
      "metadata": {
        "id": "rklRevQ3K65D"
      }
    },
    {
      "cell_type": "code",
      "source": [
        "# место для ответа\n",
        "print(a.std())"
      ],
      "metadata": {
        "id": "vY2ZAj8_K8U1",
        "outputId": "98690b2e-d09a-4a8f-b6da-624fb4e7537f",
        "colab": {
          "base_uri": "https://localhost:8080/"
        }
      },
      "execution_count": 73,
      "outputs": [
        {
          "output_type": "stream",
          "name": "stdout",
          "text": [
            "32.74885494181438\n"
          ]
        }
      ]
    },
    {
      "cell_type": "markdown",
      "source": [
        "Создайте двумерный массив размером 5x5 из случайных чисел. Найдите минимальное и максимальное значение в этом массиве.\n",
        "Ожидаемый результат: Минимальное и максимальное значения массива.\n",
        "\n"
      ],
      "metadata": {
        "id": "-C1q8SsuK8cA"
      }
    },
    {
      "cell_type": "code",
      "source": [
        "# место для ответа\n",
        "a = np.random.randint(0, 100, (5, 5))\n",
        "print(a.min())\n",
        "print(a.max())\n",
        "print(a)"
      ],
      "metadata": {
        "id": "ThN66mh6K9-G",
        "outputId": "64e82267-f7ee-4e86-c6f3-bf8843a4c92e",
        "colab": {
          "base_uri": "https://localhost:8080/"
        }
      },
      "execution_count": 80,
      "outputs": [
        {
          "output_type": "stream",
          "name": "stdout",
          "text": [
            "0\n",
            "92\n",
            "[[70 25 48 50 62]\n",
            " [44 54  0 86 16]\n",
            " [19  9 92 51 10]\n",
            " [68 23 14 63 21]\n",
            " [46  3 56 88 80]]\n"
          ]
        }
      ]
    },
    {
      "cell_type": "markdown",
      "source": [
        "Используйте этот же двумерный массив и вычислите стандартное отклонение его элементов.\n",
        "Ожидаемый результат: Стандартное отклонение элементов массива.\n",
        "\n"
      ],
      "metadata": {
        "id": "iLYyWQHZK-G1"
      }
    },
    {
      "cell_type": "code",
      "source": [
        "# место для ответа\n",
        "a.std()"
      ],
      "metadata": {
        "id": "kLq99vpsK_iQ",
        "outputId": "05bfe56e-4141-4675-f416-ea6a01515f0a",
        "colab": {
          "base_uri": "https://localhost:8080/"
        }
      },
      "execution_count": 81,
      "outputs": [
        {
          "output_type": "execute_result",
          "data": {
            "text/plain": [
              "27.730012621706468"
            ]
          },
          "metadata": {},
          "execution_count": 81
        }
      ]
    },
    {
      "cell_type": "markdown",
      "source": [
        "Найдите минимальное и максимальное значение, а также стандартное отклонение вдоль каждого столбца двумерного массива.\n",
        "Ожидаемый результат: Минимальное и максимальное значение, а также стандартное отклонение для каждого столбца массива."
      ],
      "metadata": {
        "id": "Vwvyj9iSLA24"
      }
    },
    {
      "cell_type": "code",
      "source": [
        "# место для ответа\n",
        "print(np.min(a, 0))\n",
        "print(np.max(a, 1))"
      ],
      "metadata": {
        "id": "SQT7-3zYLBOU",
        "outputId": "1d46cf3c-a5be-4aac-ec89-6b9bcc4eed58",
        "colab": {
          "base_uri": "https://localhost:8080/"
        }
      },
      "execution_count": 82,
      "outputs": [
        {
          "output_type": "stream",
          "name": "stdout",
          "text": [
            "[19  3  0 50 10]\n",
            "[70 86 92 68 88]\n"
          ]
        }
      ]
    },
    {
      "cell_type": "markdown",
      "source": [
        "# Задача 5: Сортировка и нахождение уникальных значений с помощью NumPy\n",
        "\n",
        "NumPy предлагает функции для сортировки элементов массива и нахождения уникальных значений. Ваша задача - использовать эти функции для работы с данными в массивах."
      ],
      "metadata": {
        "id": "f5_w0F_JLVAF"
      }
    },
    {
      "cell_type": "markdown",
      "source": [
        "Создайте одномерный массив из 10 случайных целых чисел от 1 до 20. Отсортируйте этот массив в порядке возрастания.\n",
        "Ожидаемый результат: Отсортированный массив из 10 случайных чисел."
      ],
      "metadata": {
        "id": "KPXpPXHILXhf"
      }
    },
    {
      "cell_type": "code",
      "source": [
        "# место для ответа\n",
        "a = np.random.randint(0, 20, 10)\n",
        "np.sort(a)"
      ],
      "metadata": {
        "id": "uAlYvQu6LXu8",
        "outputId": "24f24926-4aec-42ce-eedb-2c35610d72bc",
        "colab": {
          "base_uri": "https://localhost:8080/"
        }
      },
      "execution_count": 83,
      "outputs": [
        {
          "output_type": "execute_result",
          "data": {
            "text/plain": [
              "array([ 5,  7, 12, 13, 14, 14, 14, 15, 15, 18])"
            ]
          },
          "metadata": {},
          "execution_count": 83
        }
      ]
    },
    {
      "cell_type": "markdown",
      "source": [
        "Используя тот же одномерный массив, найдите все уникальные элементы этого массива.\n",
        "Ожидаемый результат: Массив, содержащий все уникальные элементы исходного массива."
      ],
      "metadata": {
        "id": "bfgsmJf2LZgV"
      }
    },
    {
      "cell_type": "code",
      "source": [
        "# место для ответа\n",
        "np.unique(a)"
      ],
      "metadata": {
        "id": "S7ZfgtoXLZrj",
        "outputId": "fbb76714-4cc1-4c2c-9c38-da0e30969538",
        "colab": {
          "base_uri": "https://localhost:8080/"
        }
      },
      "execution_count": 84,
      "outputs": [
        {
          "output_type": "execute_result",
          "data": {
            "text/plain": [
              "array([ 5,  7, 12, 13, 14, 15, 18])"
            ]
          },
          "metadata": {},
          "execution_count": 84
        }
      ]
    },
    {
      "cell_type": "markdown",
      "source": [
        "# Задача 6: Использование операторов сравнения и тестирование значений с NumPy\n",
        "\n",
        "NumPy предоставляет операторы для сравнения элементов массива и проверки определенных условий. Ваша задача - использовать эти функции для анализа данных в массивах."
      ],
      "metadata": {
        "id": "pFrD8JZgLkeA"
      }
    },
    {
      "cell_type": "markdown",
      "source": [
        "Создайте одномерный массив из 10 случайных чисел от 1 до 100. Создайте булев массив, который будет содержать `True` для всех элементов исходного массива, которые больше 50, и `False` - для всех остальных.\n",
        "Ожидаемый результат: Булев массив размером 10."
      ],
      "metadata": {
        "id": "DFSIfYphMgFG"
      }
    },
    {
      "cell_type": "code",
      "source": [
        "# место для ответа\n",
        "a = np.random.randint(0, 100, (5, 5))\n",
        "b = a > 50\n",
        "print(b)"
      ],
      "metadata": {
        "id": "oWCKcWBVMhDd",
        "outputId": "7fd94c86-c628-4d80-ff51-f046a10b8b3f",
        "colab": {
          "base_uri": "https://localhost:8080/"
        }
      },
      "execution_count": 94,
      "outputs": [
        {
          "output_type": "stream",
          "name": "stdout",
          "text": [
            "[[ True False  True False False]\n",
            " [False False  True False  True]\n",
            " [ True False  True False  True]\n",
            " [False False False  True  True]\n",
            " [False False False False  True]]\n"
          ]
        }
      ]
    },
    {
      "cell_type": "markdown",
      "source": [
        "Используя созданный булев массив, выберите из исходного массива только те элементы, которые больше 50.\n",
        "Ожидаемый результат: Массив элементов исходного массива, которые больше 50."
      ],
      "metadata": {
        "id": "YqZz3zFuMlcI"
      }
    },
    {
      "cell_type": "code",
      "source": [
        "# место для ответа\n",
        "a[b]"
      ],
      "metadata": {
        "id": "Sc4o5rPSMuIQ",
        "outputId": "b37573c2-7c42-42e1-e68c-353576468ec6",
        "colab": {
          "base_uri": "https://localhost:8080/"
        }
      },
      "execution_count": 95,
      "outputs": [
        {
          "output_type": "execute_result",
          "data": {
            "text/plain": [
              "array([58, 92, 96, 87, 75, 63, 91, 97, 70, 52])"
            ]
          },
          "metadata": {},
          "execution_count": 95
        }
      ]
    },
    {
      "cell_type": "markdown",
      "source": [
        "# Бонус задание\n",
        "\n",
        "Создайте двумерный массив размером 5x5 из случайных чисел от 1 до 50. Создайте булев массив, который будет содержать True для всех элементов исходного массива, которые четные, и False - для всех остальных.\n",
        "Ожидаемый результат: Булев массив размером 5x5."
      ],
      "metadata": {
        "id": "UVZz3tk3M6pF"
      }
    },
    {
      "cell_type": "code",
      "source": [
        "# место для ответа\n",
        "d = np.random.randint(0, 50, (5, 5))\n",
        "e = d % 2 == 0\n",
        "print(e)"
      ],
      "metadata": {
        "id": "lhX0reVaM9wR",
        "outputId": "14ec5ce9-1567-4b4e-da08-6bacd799274c",
        "colab": {
          "base_uri": "https://localhost:8080/"
        }
      },
      "execution_count": 98,
      "outputs": [
        {
          "output_type": "stream",
          "name": "stdout",
          "text": [
            "[[ True  True  True  True False]\n",
            " [ True  True  True  True  True]\n",
            " [False  True False  True False]\n",
            " [ True False False False  True]\n",
            " [ True False False False False]]\n"
          ]
        }
      ]
    },
    {
      "cell_type": "markdown",
      "source": [
        "Используя созданный булев массив, выберите из исходного массива только те элементы, которые четные.\n",
        "Ожидаемый результат: Массив элементов исходного массива, которые четные."
      ],
      "metadata": {
        "id": "RbnvUsLUM92w"
      }
    },
    {
      "cell_type": "code",
      "source": [
        "# место для ответа\n",
        "d[e]"
      ],
      "metadata": {
        "id": "aUSpblZ7NEHd",
        "outputId": "dc9b0f00-b25e-484a-ae12-09936f38d5c3",
        "colab": {
          "base_uri": "https://localhost:8080/"
        }
      },
      "execution_count": 99,
      "outputs": [
        {
          "output_type": "execute_result",
          "data": {
            "text/plain": [
              "array([ 2, 12, 32, 32, 36, 10, 12, 18, 30, 16, 32, 44, 44, 24])"
            ]
          },
          "metadata": {},
          "execution_count": 99
        }
      ]
    },
    {
      "cell_type": "code",
      "source": [],
      "metadata": {
        "id": "ELeVHkTMa3y_"
      },
      "execution_count": null,
      "outputs": []
    }
  ]
}